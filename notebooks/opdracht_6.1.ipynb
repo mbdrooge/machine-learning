{
 "cells": [
  {
   "cell_type": "code",
   "execution_count": 1,
   "id": "3f25a4f2",
   "metadata": {},
   "outputs": [],
   "source": [
    "import pandas as pd\n",
    "import numpy as np\n",
    "%matplotlib inline\n",
    "import matplotlib.pyplot as plt\n",
    "from tensorflow.keras.datasets import mnist\n",
    "from tensorflow.keras.utils import to_categorical\n",
    "from tensorflow.keras.models import Sequential\n",
    "from tensorflow.keras.layers import Dense\n",
    "from tensorflow.keras.layers import Flatten, Activation\n",
    "from keras.layers import Conv2D, MaxPool2D"
   ]
  },
  {
   "cell_type": "code",
   "execution_count": 2,
   "id": "eb7a71c8",
   "metadata": {},
   "outputs": [],
   "source": [
    "(X_train, y_train), (X_test, y_test) = mnist.load_data('/tmp/mnist.npz')\n",
    "X_train = X_train.reshape(-1, 28*28)\n",
    "X_test = X_test.reshape(-1, 28*28)\n",
    "X_train = X_train.astype('float32')\n",
    "X_test = X_test.astype('float32')\n",
    "X_train /= 255.0\n",
    "X_test /= 255.0\n",
    "y_train_cat = to_categorical(y_train)\n",
    "y_test_cat = to_categorical(y_test)\n",
    "X_train = X_train.reshape(-1, 28, 28, 1)\n",
    "X_test = X_test.reshape(-1, 28, 28, 1)"
   ]
  },
  {
   "cell_type": "code",
   "execution_count": 3,
   "id": "055c8424",
   "metadata": {},
   "outputs": [],
   "source": [
    "model = Sequential()\n",
    "\n",
    "model.add(Conv2D(32, (3, 3), input_shape=(28, 28, 1)))\n",
    "model.add(MaxPool2D(pool_size=(2, 2)))\n",
    "model.add(Activation('relu'))\n",
    "\n",
    "model.add(Flatten())\n",
    "\n",
    "model.add(Dense(128, activation='relu'))\n",
    "\n",
    "model.add(Dense(10, activation='softmax'))\n",
    "\n",
    "model.compile(loss='categorical_crossentropy',\n",
    "              optimizer='rmsprop',\n",
    "              metrics=['accuracy'])"
   ]
  },
  {
   "cell_type": "code",
   "execution_count": 4,
   "id": "7aebdd3b",
   "metadata": {},
   "outputs": [
    {
     "name": "stdout",
     "output_type": "stream",
     "text": [
      "Model: \"sequential\"\n",
      "_________________________________________________________________\n",
      "Layer (type)                 Output Shape              Param #   \n",
      "=================================================================\n",
      "module_wrapper (ModuleWrappe (None, 26, 26, 32)        320       \n",
      "_________________________________________________________________\n",
      "module_wrapper_1 (ModuleWrap (None, 13, 13, 32)        0         \n",
      "_________________________________________________________________\n",
      "activation (Activation)      (None, 13, 13, 32)        0         \n",
      "_________________________________________________________________\n",
      "flatten (Flatten)            (None, 5408)              0         \n",
      "_________________________________________________________________\n",
      "dense (Dense)                (None, 128)               692352    \n",
      "_________________________________________________________________\n",
      "dense_1 (Dense)              (None, 10)                1290      \n",
      "=================================================================\n",
      "Total params: 693,962\n",
      "Trainable params: 693,962\n",
      "Non-trainable params: 0\n",
      "_________________________________________________________________\n",
      "None\n",
      "313/313 [==============================] - 0s 1ms/step - loss: 0.0654 - accuracy: 0.9795\n"
     ]
    },
    {
     "data": {
      "text/plain": [
       "[0.0653628259897232, 0.9794999957084656]"
      ]
     },
     "execution_count": 4,
     "metadata": {},
     "output_type": "execute_result"
    }
   ],
   "source": [
    "model.fit(X_train, y_train_cat, batch_size=128,\n",
    "          epochs=2, verbose=0, validation_split=0.3)\n",
    "print(model.summary())\n",
    "model.evaluate(X_test, y_test_cat)"
   ]
  },
  {
   "cell_type": "markdown",
   "id": "5a1b1bb3",
   "metadata": {},
   "source": [
    "#### Uitleg van de code\n",
    "Er wordt een sequentieel model aangemaakt. \n",
    "Hieraan worden 6 lagen toegevoegd.\n",
    "- een conv2d laag. Dit is een convolutie kernel in dit geval op een 32x32 image met een grootte van 3x3.\n",
    "  de input_shape bestaat uit een 28x28 image\n",
    "  \n",
    "  \n",
    "- een Max2DPool met een pool_size van 2x2. Dit zorgt voor data reductie. De operatie pakt een stuk van 2x2 uit de image en gooit alles weg behalve de hoogste waarde die gevonden wordt. Deze datareductie zal verder weinig van invloed zijn op de uiteindelijke classificatie maar er is wel een hoop minder data te verwerken.\n",
    "\n",
    "\n",
    "- een Activation functie van het type Relu. Dit is een snelle functie voor het vinden van het lokale minimum van de loss functie.\n",
    "\n",
    "\n",
    "- een flatten operatie om de voorgaande lagen samen te voegen.\n",
    "\n",
    "\n",
    "- een dense layer van 128 tensors met de relu functie\n",
    "\n",
    "\n",
    "- een dense layer van 10 tensors met de softmax functie. Hiermee kan het resultaat in percentage tussen 0 en 1 worden uitgedrukt.\n",
    "\n",
    "\n",
    "Vervolgens wordt het model gebouwd met als loss functie de categorical crossentropy en als optimizer rmsprop.\n",
    "Er wordt gekeken naar de accuracy metric voor dit model.\n"
   ]
  },
  {
   "cell_type": "markdown",
   "id": "80d4e834",
   "metadata": {},
   "source": [
    "#### Verklaar alle waardes in de summary tabel\n",
    "De kolom Param # bevat het aantal parameters.\n",
    "\n",
    "Voor dense layers geldt: `output_size * (input_size + 1) == number_parameters`\\\n",
    "Voor conv layers geldt: `output_channels * (input_channels * window_size + 1) == number_parameters`\n",
    "\n",
    "- Voor rij 1: `32 * (1* (3*3)+1) = 320` \n",
    "- Voor rij 5: `128 * (5408 * 1 + 1) = 692352`\n",
    "- Voor rij 6: `10 *(128 * 1 + 1) = 1290`\n",
    "- Total Parameters: `320 + 692352 + 1290 = 693962`\n",
    "\n",
    "Bron: https://stackoverflow.com/a/56534957"
   ]
  },
  {
   "cell_type": "markdown",
   "id": "98da3daf",
   "metadata": {},
   "source": [
    "#### Welke conclusie trek je op basis van de output van `model.evaluate()`?\n",
    "De evaluate functie print de loss en de accuracy van het model uit.\n",
    "De accuracy staat op 0.986. Het model is dus erg precies.\n",
    "De loss staat op 0.052. Dit zit erg dicht bij 0. Daarom is de voorspelling van het model waarschijnlijk goed."
   ]
  }
 ],
 "metadata": {
  "kernelspec": {
   "display_name": "Python 3",
   "language": "python",
   "name": "python3"
  },
  "language_info": {
   "codemirror_mode": {
    "name": "ipython",
    "version": 3
   },
   "file_extension": ".py",
   "mimetype": "text/x-python",
   "name": "python",
   "nbconvert_exporter": "python",
   "pygments_lexer": "ipython3",
   "version": "3.7.10"
  }
 },
 "nbformat": 4,
 "nbformat_minor": 5
}
